{
 "cells": [
  {
   "cell_type": "code",
   "execution_count": 1,
   "id": "859c4d2b",
   "metadata": {
    "ExecuteTime": {
     "end_time": "2022-02-23T19:39:15.915860Z",
     "start_time": "2022-02-23T19:39:15.902436Z"
    },
    "id": "859c4d2b"
   },
   "outputs": [],
   "source": [
    "import pandas as pd\n",
    "\n",
    "from sklearn.preprocessing import OneHotEncoder\n",
    "from sklearn.preprocessing import StandardScaler\n",
    "from sklearn.preprocessing import MinMaxScaler"
   ]
  },
  {
   "cell_type": "markdown",
   "id": "20d02d60",
   "metadata": {
    "id": "20d02d60"
   },
   "source": [
    "# Feature Engineering"
   ]
  },
  {
   "cell_type": "markdown",
   "id": "9c50eacf",
   "metadata": {
    "heading_collapsed": true,
    "id": "3092d4ea"
   },
   "source": [
    "### Описание датасета:"
   ]
  },
  {
   "cell_type": "markdown",
   "id": "3092d4ea",
   "metadata": {
    "hidden": true,
    "id": "3092d4ea"
   },
   "source": [
    "- `id`: идентификатор записи;\n",
    "- `url`: URL-записи о продаже;\n",
    "- `region`: регион;\n",
    "- `region_url`: URL региона;\n",
    "- `price`: стоимость;\n",
    "- `year`: год выпуска;\n",
    "- `manufacturer`: производитель;\n",
    "- `model`: модель;\n",
    "- `condition`: состояние;\n",
    "- `cylinders`: количество цилиндров;\n",
    "- `fuel`: тип топлива;\n",
    "- `odometer`: количество пройденных миль;\n",
    "- `title_status`: статус;\n",
    "- `transmission`: коробка передач;\n",
    "- `VIN`: идентификационный номер;\n",
    "- `drive`: тип привода;\n",
    "- `size`: размер;\n",
    "- `type`: кузов;\n",
    "- `paint_color`: цвет;\n",
    "- `image_url`: URL изображения;\n",
    "- `description`: указанное описание;\n",
    "- `county`: страна;\n",
    "- `state`: штат;\n",
    "- `lat`: широта;\n",
    "- `long`: долгота;\n",
    "- `posting_date`: дата размещения объявления о продаже;\n",
    "- `price_category`: категория цены."
   ]
  },
  {
   "cell_type": "markdown",
   "id": "a98b05f6",
   "metadata": {
    "heading_collapsed": true,
    "id": "a98b05f6"
   },
   "source": [
    "### Построение признаков из строк"
   ]
  },
  {
   "cell_type": "code",
   "execution_count": 2,
   "id": "d536ad11",
   "metadata": {
    "ExecuteTime": {
     "end_time": "2022-03-15T22:40:23.588946Z",
     "start_time": "2022-03-15T22:40:23.585461Z"
    },
    "hidden": true,
    "id": "d536ad11"
   },
   "outputs": [
    {
     "data": {
      "text/html": [
       "<div>\n",
       "<style scoped>\n",
       "    .dataframe tbody tr th:only-of-type {\n",
       "        vertical-align: middle;\n",
       "    }\n",
       "\n",
       "    .dataframe tbody tr th {\n",
       "        vertical-align: top;\n",
       "    }\n",
       "\n",
       "    .dataframe thead th {\n",
       "        text-align: right;\n",
       "    }\n",
       "</style>\n",
       "<table border=\"1\" class=\"dataframe\">\n",
       "  <thead>\n",
       "    <tr style=\"text-align: right;\">\n",
       "      <th></th>\n",
       "      <th>id</th>\n",
       "      <th>url</th>\n",
       "      <th>region</th>\n",
       "      <th>region_url</th>\n",
       "      <th>price</th>\n",
       "      <th>year</th>\n",
       "      <th>manufacturer</th>\n",
       "      <th>model</th>\n",
       "      <th>fuel</th>\n",
       "      <th>odometer</th>\n",
       "      <th>...</th>\n",
       "      <th>is_jeep</th>\n",
       "      <th>is_honda</th>\n",
       "      <th>is_nissan</th>\n",
       "      <th>x0_diesel</th>\n",
       "      <th>x0_electric</th>\n",
       "      <th>x0_gas</th>\n",
       "      <th>x0_hybrid</th>\n",
       "      <th>x0_other</th>\n",
       "      <th>std_scaled_odometer</th>\n",
       "      <th>std_scaled_price</th>\n",
       "    </tr>\n",
       "  </thead>\n",
       "  <tbody>\n",
       "    <tr>\n",
       "      <th>0</th>\n",
       "      <td>7308295377</td>\n",
       "      <td>https://chattanooga.craigslist.org/ctd/d/chatt...</td>\n",
       "      <td>chattanooga</td>\n",
       "      <td>https://chattanooga.craigslist.org</td>\n",
       "      <td>54990</td>\n",
       "      <td>2020</td>\n",
       "      <td>ram</td>\n",
       "      <td>2500 crew cab big horn</td>\n",
       "      <td>diesel</td>\n",
       "      <td>27442</td>\n",
       "      <td>...</td>\n",
       "      <td>0</td>\n",
       "      <td>0</td>\n",
       "      <td>0</td>\n",
       "      <td>1.0</td>\n",
       "      <td>0.0</td>\n",
       "      <td>0.0</td>\n",
       "      <td>0.0</td>\n",
       "      <td>0.0</td>\n",
       "      <td>-1.079390</td>\n",
       "      <td>2.958509</td>\n",
       "    </tr>\n",
       "    <tr>\n",
       "      <th>1</th>\n",
       "      <td>7316380095</td>\n",
       "      <td>https://newjersey.craigslist.org/ctd/d/carlsta...</td>\n",
       "      <td>north jersey</td>\n",
       "      <td>https://newjersey.craigslist.org</td>\n",
       "      <td>16942</td>\n",
       "      <td>2016</td>\n",
       "      <td>ford</td>\n",
       "      <td>explorer 4wd 4dr xlt</td>\n",
       "      <td>other</td>\n",
       "      <td>60023</td>\n",
       "      <td>...</td>\n",
       "      <td>0</td>\n",
       "      <td>0</td>\n",
       "      <td>0</td>\n",
       "      <td>0.0</td>\n",
       "      <td>0.0</td>\n",
       "      <td>0.0</td>\n",
       "      <td>0.0</td>\n",
       "      <td>1.0</td>\n",
       "      <td>-0.560115</td>\n",
       "      <td>-0.085826</td>\n",
       "    </tr>\n",
       "    <tr>\n",
       "      <th>2</th>\n",
       "      <td>7313733749</td>\n",
       "      <td>https://reno.craigslist.org/ctd/d/atlanta-2017...</td>\n",
       "      <td>reno / tahoe</td>\n",
       "      <td>https://reno.craigslist.org</td>\n",
       "      <td>35590</td>\n",
       "      <td>2017</td>\n",
       "      <td>volkswagen</td>\n",
       "      <td>golf r hatchback</td>\n",
       "      <td>gas</td>\n",
       "      <td>14048</td>\n",
       "      <td>...</td>\n",
       "      <td>0</td>\n",
       "      <td>0</td>\n",
       "      <td>0</td>\n",
       "      <td>0.0</td>\n",
       "      <td>0.0</td>\n",
       "      <td>1.0</td>\n",
       "      <td>0.0</td>\n",
       "      <td>0.0</td>\n",
       "      <td>-1.292863</td>\n",
       "      <td>1.406256</td>\n",
       "    </tr>\n",
       "    <tr>\n",
       "      <th>3</th>\n",
       "      <td>7308210929</td>\n",
       "      <td>https://fayetteville.craigslist.org/ctd/d/rale...</td>\n",
       "      <td>fayetteville</td>\n",
       "      <td>https://fayetteville.craigslist.org</td>\n",
       "      <td>14500</td>\n",
       "      <td>2013</td>\n",
       "      <td>toyota</td>\n",
       "      <td>rav4</td>\n",
       "      <td>gas</td>\n",
       "      <td>117291</td>\n",
       "      <td>...</td>\n",
       "      <td>0</td>\n",
       "      <td>0</td>\n",
       "      <td>0</td>\n",
       "      <td>0.0</td>\n",
       "      <td>0.0</td>\n",
       "      <td>1.0</td>\n",
       "      <td>0.0</td>\n",
       "      <td>0.0</td>\n",
       "      <td>0.352621</td>\n",
       "      <td>-0.281218</td>\n",
       "    </tr>\n",
       "    <tr>\n",
       "      <th>4</th>\n",
       "      <td>7303797340</td>\n",
       "      <td>https://knoxville.craigslist.org/ctd/d/knoxvil...</td>\n",
       "      <td>knoxville</td>\n",
       "      <td>https://knoxville.craigslist.org</td>\n",
       "      <td>14590</td>\n",
       "      <td>2012</td>\n",
       "      <td>bmw</td>\n",
       "      <td>1 series 128i coupe 2d</td>\n",
       "      <td>other</td>\n",
       "      <td>80465</td>\n",
       "      <td>...</td>\n",
       "      <td>0</td>\n",
       "      <td>0</td>\n",
       "      <td>0</td>\n",
       "      <td>0.0</td>\n",
       "      <td>0.0</td>\n",
       "      <td>0.0</td>\n",
       "      <td>0.0</td>\n",
       "      <td>1.0</td>\n",
       "      <td>-0.234311</td>\n",
       "      <td>-0.274017</td>\n",
       "    </tr>\n",
       "  </tbody>\n",
       "</table>\n",
       "<p>5 rows × 45 columns</p>\n",
       "</div>"
      ],
      "text/plain": [
       "           id                                                url  \\\n",
       "0  7308295377  https://chattanooga.craigslist.org/ctd/d/chatt...   \n",
       "1  7316380095  https://newjersey.craigslist.org/ctd/d/carlsta...   \n",
       "2  7313733749  https://reno.craigslist.org/ctd/d/atlanta-2017...   \n",
       "3  7308210929  https://fayetteville.craigslist.org/ctd/d/rale...   \n",
       "4  7303797340  https://knoxville.craigslist.org/ctd/d/knoxvil...   \n",
       "\n",
       "         region                           region_url  price  year  \\\n",
       "0   chattanooga   https://chattanooga.craigslist.org  54990  2020   \n",
       "1  north jersey     https://newjersey.craigslist.org  16942  2016   \n",
       "2  reno / tahoe          https://reno.craigslist.org  35590  2017   \n",
       "3  fayetteville  https://fayetteville.craigslist.org  14500  2013   \n",
       "4     knoxville     https://knoxville.craigslist.org  14590  2012   \n",
       "\n",
       "  manufacturer                   model    fuel  odometer  ... is_jeep  \\\n",
       "0          ram  2500 crew cab big horn  diesel     27442  ...       0   \n",
       "1         ford    explorer 4wd 4dr xlt   other     60023  ...       0   \n",
       "2   volkswagen        golf r hatchback     gas     14048  ...       0   \n",
       "3       toyota                    rav4     gas    117291  ...       0   \n",
       "4          bmw  1 series 128i coupe 2d   other     80465  ...       0   \n",
       "\n",
       "  is_honda is_nissan x0_diesel x0_electric  x0_gas  x0_hybrid x0_other  \\\n",
       "0        0         0       1.0         0.0     0.0        0.0      0.0   \n",
       "1        0         0       0.0         0.0     0.0        0.0      1.0   \n",
       "2        0         0       0.0         0.0     1.0        0.0      0.0   \n",
       "3        0         0       0.0         0.0     1.0        0.0      0.0   \n",
       "4        0         0       0.0         0.0     0.0        0.0      1.0   \n",
       "\n",
       "  std_scaled_odometer std_scaled_price  \n",
       "0           -1.079390         2.958509  \n",
       "1           -0.560115        -0.085826  \n",
       "2           -1.292863         1.406256  \n",
       "3            0.352621        -0.281218  \n",
       "4           -0.234311        -0.274017  \n",
       "\n",
       "[5 rows x 45 columns]"
      ]
     },
     "execution_count": 2,
     "metadata": {},
     "output_type": "execute_result"
    }
   ],
   "source": [
    "df = pd.read_csv('data/vehicles_dataset_for_fe.csv')\n",
    "df.head()"
   ]
  },
  {
   "cell_type": "code",
   "execution_count": 3,
   "id": "4dc0d394",
   "metadata": {
    "hidden": true
   },
   "outputs": [
    {
     "data": {
      "text/plain": [
       "Index(['id', 'url', 'region', 'region_url', 'price', 'year', 'manufacturer',\n",
       "       'model', 'fuel', 'odometer', 'title_status', 'transmission',\n",
       "       'image_url', 'description', 'state', 'lat', 'long', 'posting_date',\n",
       "       'price_category', 'date', 'odometer_km', 'odometer/price', 'region_new',\n",
       "       'region_corrected', 'manufacturer_model', 'desc_len', 'model_in_desc',\n",
       "       'price_k$', 'age_category', 'model_len', 'model_word_count', 'is_audi',\n",
       "       'is_ford', 'is_chevrolet', 'is_toyota', 'is_jeep', 'is_honda',\n",
       "       'is_nissan', 'x0_diesel', 'x0_electric', 'x0_gas', 'x0_hybrid',\n",
       "       'x0_other', 'std_scaled_odometer', 'std_scaled_price'],\n",
       "      dtype='object')"
      ]
     },
     "execution_count": 3,
     "metadata": {},
     "output_type": "execute_result"
    }
   ],
   "source": [
    "df.columns"
   ]
  },
  {
   "cell_type": "markdown",
   "id": "c46630e3",
   "metadata": {
    "hidden": true,
    "id": "c46630e3"
   },
   "source": [
    "Cписок значений и количество уникальных значений для модели автомобиля."
   ]
  },
  {
   "cell_type": "code",
   "execution_count": 4,
   "id": "12c123d6",
   "metadata": {
    "ExecuteTime": {
     "end_time": "2022-03-15T22:40:29.330321Z",
     "start_time": "2022-03-15T22:40:29.326988Z"
    },
    "hidden": true,
    "id": "12c123d6"
   },
   "outputs": [
    {
     "data": {
      "text/plain": [
       "array(['2500 crew cab big horn', 'explorer 4wd 4dr xlt',\n",
       "       'golf r hatchback', ..., 'gs350', '1988 Nisan',\n",
       "       'a3 2.0t premium plus pzev'], dtype=object)"
      ]
     },
     "execution_count": 4,
     "metadata": {},
     "output_type": "execute_result"
    }
   ],
   "source": [
    "df.model.unique()"
   ]
  },
  {
   "cell_type": "code",
   "execution_count": 5,
   "id": "dfe6d324",
   "metadata": {
    "hidden": true
   },
   "outputs": [
    {
     "data": {
      "text/plain": [
       "3341"
      ]
     },
     "execution_count": 5,
     "metadata": {},
     "output_type": "execute_result"
    }
   ],
   "source": [
    "df.model.nunique()"
   ]
  },
  {
   "cell_type": "markdown",
   "id": "bcf1904b",
   "metadata": {
    "hidden": true,
    "id": "bcf1904b"
   },
   "source": [
    "Количество уникальных значений велико. Попробуем их сократить, оставив только первое слово в наименовании модели. Cоздаlbv новый признак `short_model`, содержащий только первое слово из наименования модели, выведем его и количество получившихся уникальных значений."
   ]
  },
  {
   "cell_type": "code",
   "execution_count": 6,
   "id": "6de1d535",
   "metadata": {
    "ExecuteTime": {
     "end_time": "2022-03-15T22:40:30.465505Z",
     "start_time": "2022-03-15T22:40:30.460032Z"
    },
    "hidden": true,
    "id": "6de1d535"
   },
   "outputs": [
    {
     "data": {
      "text/plain": [
       "0           2500\n",
       "1       explorer\n",
       "2           golf\n",
       "3           rav4\n",
       "4              1\n",
       "          ...   \n",
       "9614        rav4\n",
       "9615    wrangler\n",
       "9616          a3\n",
       "9617     cayenne\n",
       "9618        1500\n",
       "Name: short_model, Length: 9619, dtype: object"
      ]
     },
     "execution_count": 6,
     "metadata": {},
     "output_type": "execute_result"
    }
   ],
   "source": [
    "df['short_model'] = df.model.apply(lambda x: x.split()[0].lower())\n",
    "df['short_model']"
   ]
  },
  {
   "cell_type": "code",
   "execution_count": 7,
   "id": "e68c875b",
   "metadata": {
    "hidden": true
   },
   "outputs": [
    {
     "data": {
      "text/plain": [
       "906"
      ]
     },
     "execution_count": 7,
     "metadata": {},
     "output_type": "execute_result"
    }
   ],
   "source": [
    "df.short_model.nunique()"
   ]
  },
  {
   "cell_type": "markdown",
   "id": "8a3e566a",
   "metadata": {
    "ExecuteTime": {
     "end_time": "2022-01-28T23:12:51.463454Z",
     "start_time": "2022-01-28T23:12:51.458075Z"
    },
    "heading_collapsed": true,
    "id": "f8266e27"
   },
   "source": [
    "### Преобразование категориальных переменных"
   ]
  },
  {
   "cell_type": "code",
   "execution_count": 8,
   "id": "a839bd7c",
   "metadata": {
    "ExecuteTime": {
     "end_time": "2022-03-15T22:40:31.559424Z",
     "start_time": "2022-03-15T22:40:31.552170Z"
    },
    "hidden": true,
    "id": "a839bd7c"
   },
   "outputs": [
    {
     "name": "stdout",
     "output_type": "stream",
     "text": [
      "Наименование категории: \"short_model\", количество уникальных значений в ней: 906\n",
      "Наименование категории: \"transmission\", количество уникальных значений в ней: 3\n",
      "Наименование категории: \"region\", количество уникальных значений в ней: 393\n",
      "Наименование категории: \"manufacturer\", количество уникальных значений в ней: 40\n",
      "Наименование категории: \"state\", количество уникальных значений в ней: 51\n",
      "Наименование категории: \"title_status\", количество уникальных значений в ней: 6\n",
      "Наименование категории: \"age_category\", количество уникальных значений в ней: 3\n"
     ]
    }
   ],
   "source": [
    "for elem in ['short_model', 'transmission', 'region', 'manufacturer', 'state', 'title_status', 'age_category']:\n",
    "    print(f'Наименование категории: \\\"{elem}\\\", количество уникальных значений в ней: {df[elem].nunique()}')"
   ]
  },
  {
   "cell_type": "markdown",
   "id": "6d22ddcd",
   "metadata": {
    "hidden": true,
    "id": "6d22ddcd"
   },
   "source": [
    "Датафрейм `data`, содержащий только выбранные категориальные переменные."
   ]
  },
  {
   "cell_type": "code",
   "execution_count": 9,
   "id": "c6fb4d53",
   "metadata": {
    "ExecuteTime": {
     "end_time": "2022-03-15T22:40:32.233510Z",
     "start_time": "2022-03-15T22:40:32.226777Z"
    },
    "hidden": true,
    "id": "c6fb4d53"
   },
   "outputs": [
    {
     "data": {
      "text/html": [
       "<div>\n",
       "<style scoped>\n",
       "    .dataframe tbody tr th:only-of-type {\n",
       "        vertical-align: middle;\n",
       "    }\n",
       "\n",
       "    .dataframe tbody tr th {\n",
       "        vertical-align: top;\n",
       "    }\n",
       "\n",
       "    .dataframe thead th {\n",
       "        text-align: right;\n",
       "    }\n",
       "</style>\n",
       "<table border=\"1\" class=\"dataframe\">\n",
       "  <thead>\n",
       "    <tr style=\"text-align: right;\">\n",
       "      <th></th>\n",
       "      <th>short_model</th>\n",
       "      <th>transmission</th>\n",
       "      <th>region</th>\n",
       "      <th>manufacturer</th>\n",
       "      <th>state</th>\n",
       "      <th>title_status</th>\n",
       "      <th>age_category</th>\n",
       "    </tr>\n",
       "  </thead>\n",
       "  <tbody>\n",
       "    <tr>\n",
       "      <th>0</th>\n",
       "      <td>2500</td>\n",
       "      <td>other</td>\n",
       "      <td>chattanooga</td>\n",
       "      <td>ram</td>\n",
       "      <td>tn</td>\n",
       "      <td>clean</td>\n",
       "      <td>new</td>\n",
       "    </tr>\n",
       "    <tr>\n",
       "      <th>1</th>\n",
       "      <td>explorer</td>\n",
       "      <td>automatic</td>\n",
       "      <td>north jersey</td>\n",
       "      <td>ford</td>\n",
       "      <td>nj</td>\n",
       "      <td>clean</td>\n",
       "      <td>new</td>\n",
       "    </tr>\n",
       "    <tr>\n",
       "      <th>2</th>\n",
       "      <td>golf</td>\n",
       "      <td>other</td>\n",
       "      <td>reno / tahoe</td>\n",
       "      <td>volkswagen</td>\n",
       "      <td>ca</td>\n",
       "      <td>clean</td>\n",
       "      <td>new</td>\n",
       "    </tr>\n",
       "    <tr>\n",
       "      <th>3</th>\n",
       "      <td>rav4</td>\n",
       "      <td>automatic</td>\n",
       "      <td>fayetteville</td>\n",
       "      <td>toyota</td>\n",
       "      <td>nc</td>\n",
       "      <td>clean</td>\n",
       "      <td>average</td>\n",
       "    </tr>\n",
       "    <tr>\n",
       "      <th>4</th>\n",
       "      <td>1</td>\n",
       "      <td>other</td>\n",
       "      <td>knoxville</td>\n",
       "      <td>bmw</td>\n",
       "      <td>tn</td>\n",
       "      <td>clean</td>\n",
       "      <td>average</td>\n",
       "    </tr>\n",
       "    <tr>\n",
       "      <th>...</th>\n",
       "      <td>...</td>\n",
       "      <td>...</td>\n",
       "      <td>...</td>\n",
       "      <td>...</td>\n",
       "      <td>...</td>\n",
       "      <td>...</td>\n",
       "      <td>...</td>\n",
       "    </tr>\n",
       "    <tr>\n",
       "      <th>9614</th>\n",
       "      <td>rav4</td>\n",
       "      <td>automatic</td>\n",
       "      <td>chautauqua</td>\n",
       "      <td>toyota</td>\n",
       "      <td>ny</td>\n",
       "      <td>clean</td>\n",
       "      <td>old</td>\n",
       "    </tr>\n",
       "    <tr>\n",
       "      <th>9615</th>\n",
       "      <td>wrangler</td>\n",
       "      <td>other</td>\n",
       "      <td>binghamton</td>\n",
       "      <td>jeep</td>\n",
       "      <td>ny</td>\n",
       "      <td>clean</td>\n",
       "      <td>average</td>\n",
       "    </tr>\n",
       "    <tr>\n",
       "      <th>9616</th>\n",
       "      <td>a3</td>\n",
       "      <td>automatic</td>\n",
       "      <td>salem</td>\n",
       "      <td>audi</td>\n",
       "      <td>or</td>\n",
       "      <td>clean</td>\n",
       "      <td>average</td>\n",
       "    </tr>\n",
       "    <tr>\n",
       "      <th>9617</th>\n",
       "      <td>cayenne</td>\n",
       "      <td>automatic</td>\n",
       "      <td>madison</td>\n",
       "      <td>porsche</td>\n",
       "      <td>wi</td>\n",
       "      <td>clean</td>\n",
       "      <td>new</td>\n",
       "    </tr>\n",
       "    <tr>\n",
       "      <th>9618</th>\n",
       "      <td>1500</td>\n",
       "      <td>other</td>\n",
       "      <td>norfolk / hampton roads</td>\n",
       "      <td>ram</td>\n",
       "      <td>va</td>\n",
       "      <td>clean</td>\n",
       "      <td>new</td>\n",
       "    </tr>\n",
       "  </tbody>\n",
       "</table>\n",
       "<p>9619 rows × 7 columns</p>\n",
       "</div>"
      ],
      "text/plain": [
       "     short_model transmission                   region manufacturer state  \\\n",
       "0           2500        other              chattanooga          ram    tn   \n",
       "1       explorer    automatic             north jersey         ford    nj   \n",
       "2           golf        other             reno / tahoe   volkswagen    ca   \n",
       "3           rav4    automatic             fayetteville       toyota    nc   \n",
       "4              1        other                knoxville          bmw    tn   \n",
       "...          ...          ...                      ...          ...   ...   \n",
       "9614        rav4    automatic               chautauqua       toyota    ny   \n",
       "9615    wrangler        other               binghamton         jeep    ny   \n",
       "9616          a3    automatic                    salem         audi    or   \n",
       "9617     cayenne    automatic                  madison      porsche    wi   \n",
       "9618        1500        other  norfolk / hampton roads          ram    va   \n",
       "\n",
       "     title_status age_category  \n",
       "0           clean          new  \n",
       "1           clean          new  \n",
       "2           clean          new  \n",
       "3           clean      average  \n",
       "4           clean      average  \n",
       "...           ...          ...  \n",
       "9614        clean          old  \n",
       "9615        clean      average  \n",
       "9616        clean      average  \n",
       "9617        clean          new  \n",
       "9618        clean          new  \n",
       "\n",
       "[9619 rows x 7 columns]"
      ]
     },
     "execution_count": 9,
     "metadata": {},
     "output_type": "execute_result"
    }
   ],
   "source": [
    "data = df[['short_model', 'transmission', 'region', 'manufacturer', 'state', 'title_status', 'age_category']]\n",
    "data"
   ]
  },
  {
   "cell_type": "code",
   "execution_count": 10,
   "id": "5c64ca58",
   "metadata": {
    "ExecuteTime": {
     "end_time": "2022-03-15T22:40:33.034009Z",
     "start_time": "2022-03-15T22:40:33.028764Z"
    },
    "hidden": true,
    "id": "5c64ca58"
   },
   "outputs": [
    {
     "data": {
      "text/plain": [
       "OneHotEncoder(sparse=False)"
      ]
     },
     "execution_count": 10,
     "metadata": {},
     "output_type": "execute_result"
    }
   ],
   "source": [
    "ohe = OneHotEncoder(sparse=False)\n",
    "ohe.fit(data)"
   ]
  },
  {
   "cell_type": "code",
   "execution_count": 11,
   "id": "5a06e65a",
   "metadata": {
    "hidden": true
   },
   "outputs": [
    {
     "data": {
      "text/plain": [
       "(9619, 1402)"
      ]
     },
     "execution_count": 11,
     "metadata": {},
     "output_type": "execute_result"
    }
   ],
   "source": [
    "ohe_categories = ohe.transform(data)\n",
    "ohe_categories.shape"
   ]
  },
  {
   "cell_type": "markdown",
   "id": "490cf3fa",
   "metadata": {
    "hidden": true,
    "id": "490cf3fa"
   },
   "source": [
    "Новые наименования признаков"
   ]
  },
  {
   "cell_type": "code",
   "execution_count": 12,
   "id": "f8fe27af",
   "metadata": {
    "hidden": true
   },
   "outputs": [
    {
     "data": {
      "text/plain": [
       "array(['x0_-benz', 'x0_1', 'x0_124', ..., 'x6_average', 'x6_new',\n",
       "       'x6_old'], dtype=object)"
      ]
     },
     "execution_count": 12,
     "metadata": {},
     "output_type": "execute_result"
    }
   ],
   "source": [
    "ohe.get_feature_names()"
   ]
  },
  {
   "cell_type": "markdown",
   "id": "115aed73",
   "metadata": {
    "hidden": true,
    "id": "115aed73"
   },
   "source": [
    "Добавим в исходный датафрейм получившиеся новые признаки"
   ]
  },
  {
   "cell_type": "code",
   "execution_count": 13,
   "id": "0062ac07",
   "metadata": {
    "ExecuteTime": {
     "end_time": "2022-03-15T22:40:35.978083Z",
     "start_time": "2022-03-15T22:40:35.970249Z"
    },
    "hidden": true,
    "id": "0062ac07"
   },
   "outputs": [
    {
     "name": "stderr",
     "output_type": "stream",
     "text": [
      "C:\\anaconda\\lib\\site-packages\\pandas\\core\\frame.py:3678: PerformanceWarning: DataFrame is highly fragmented.  This is usually the result of calling `frame.insert` many times, which has poor performance.  Consider joining all columns at once using pd.concat(axis=1) instead.  To get a de-fragmented frame, use `newframe = frame.copy()`\n",
      "  self[col] = igetitem(value, i)\n"
     ]
    },
    {
     "data": {
      "text/html": [
       "<div>\n",
       "<style scoped>\n",
       "    .dataframe tbody tr th:only-of-type {\n",
       "        vertical-align: middle;\n",
       "    }\n",
       "\n",
       "    .dataframe tbody tr th {\n",
       "        vertical-align: top;\n",
       "    }\n",
       "\n",
       "    .dataframe thead th {\n",
       "        text-align: right;\n",
       "    }\n",
       "</style>\n",
       "<table border=\"1\" class=\"dataframe\">\n",
       "  <thead>\n",
       "    <tr style=\"text-align: right;\">\n",
       "      <th></th>\n",
       "      <th>id</th>\n",
       "      <th>url</th>\n",
       "      <th>region</th>\n",
       "      <th>region_url</th>\n",
       "      <th>price</th>\n",
       "      <th>year</th>\n",
       "      <th>manufacturer</th>\n",
       "      <th>model</th>\n",
       "      <th>fuel</th>\n",
       "      <th>odometer</th>\n",
       "      <th>...</th>\n",
       "      <th>x4_wy</th>\n",
       "      <th>x5_clean</th>\n",
       "      <th>x5_lien</th>\n",
       "      <th>x5_missing</th>\n",
       "      <th>x5_parts only</th>\n",
       "      <th>x5_rebuilt</th>\n",
       "      <th>x5_salvage</th>\n",
       "      <th>x6_average</th>\n",
       "      <th>x6_new</th>\n",
       "      <th>x6_old</th>\n",
       "    </tr>\n",
       "  </thead>\n",
       "  <tbody>\n",
       "    <tr>\n",
       "      <th>0</th>\n",
       "      <td>7308295377</td>\n",
       "      <td>https://chattanooga.craigslist.org/ctd/d/chatt...</td>\n",
       "      <td>chattanooga</td>\n",
       "      <td>https://chattanooga.craigslist.org</td>\n",
       "      <td>54990</td>\n",
       "      <td>2020</td>\n",
       "      <td>ram</td>\n",
       "      <td>2500 crew cab big horn</td>\n",
       "      <td>diesel</td>\n",
       "      <td>27442</td>\n",
       "      <td>...</td>\n",
       "      <td>0.0</td>\n",
       "      <td>1.0</td>\n",
       "      <td>0.0</td>\n",
       "      <td>0.0</td>\n",
       "      <td>0.0</td>\n",
       "      <td>0.0</td>\n",
       "      <td>0.0</td>\n",
       "      <td>0.0</td>\n",
       "      <td>1.0</td>\n",
       "      <td>0.0</td>\n",
       "    </tr>\n",
       "    <tr>\n",
       "      <th>1</th>\n",
       "      <td>7316380095</td>\n",
       "      <td>https://newjersey.craigslist.org/ctd/d/carlsta...</td>\n",
       "      <td>north jersey</td>\n",
       "      <td>https://newjersey.craigslist.org</td>\n",
       "      <td>16942</td>\n",
       "      <td>2016</td>\n",
       "      <td>ford</td>\n",
       "      <td>explorer 4wd 4dr xlt</td>\n",
       "      <td>other</td>\n",
       "      <td>60023</td>\n",
       "      <td>...</td>\n",
       "      <td>0.0</td>\n",
       "      <td>1.0</td>\n",
       "      <td>0.0</td>\n",
       "      <td>0.0</td>\n",
       "      <td>0.0</td>\n",
       "      <td>0.0</td>\n",
       "      <td>0.0</td>\n",
       "      <td>0.0</td>\n",
       "      <td>1.0</td>\n",
       "      <td>0.0</td>\n",
       "    </tr>\n",
       "    <tr>\n",
       "      <th>2</th>\n",
       "      <td>7313733749</td>\n",
       "      <td>https://reno.craigslist.org/ctd/d/atlanta-2017...</td>\n",
       "      <td>reno / tahoe</td>\n",
       "      <td>https://reno.craigslist.org</td>\n",
       "      <td>35590</td>\n",
       "      <td>2017</td>\n",
       "      <td>volkswagen</td>\n",
       "      <td>golf r hatchback</td>\n",
       "      <td>gas</td>\n",
       "      <td>14048</td>\n",
       "      <td>...</td>\n",
       "      <td>0.0</td>\n",
       "      <td>1.0</td>\n",
       "      <td>0.0</td>\n",
       "      <td>0.0</td>\n",
       "      <td>0.0</td>\n",
       "      <td>0.0</td>\n",
       "      <td>0.0</td>\n",
       "      <td>0.0</td>\n",
       "      <td>1.0</td>\n",
       "      <td>0.0</td>\n",
       "    </tr>\n",
       "    <tr>\n",
       "      <th>3</th>\n",
       "      <td>7308210929</td>\n",
       "      <td>https://fayetteville.craigslist.org/ctd/d/rale...</td>\n",
       "      <td>fayetteville</td>\n",
       "      <td>https://fayetteville.craigslist.org</td>\n",
       "      <td>14500</td>\n",
       "      <td>2013</td>\n",
       "      <td>toyota</td>\n",
       "      <td>rav4</td>\n",
       "      <td>gas</td>\n",
       "      <td>117291</td>\n",
       "      <td>...</td>\n",
       "      <td>0.0</td>\n",
       "      <td>1.0</td>\n",
       "      <td>0.0</td>\n",
       "      <td>0.0</td>\n",
       "      <td>0.0</td>\n",
       "      <td>0.0</td>\n",
       "      <td>0.0</td>\n",
       "      <td>1.0</td>\n",
       "      <td>0.0</td>\n",
       "      <td>0.0</td>\n",
       "    </tr>\n",
       "    <tr>\n",
       "      <th>4</th>\n",
       "      <td>7303797340</td>\n",
       "      <td>https://knoxville.craigslist.org/ctd/d/knoxvil...</td>\n",
       "      <td>knoxville</td>\n",
       "      <td>https://knoxville.craigslist.org</td>\n",
       "      <td>14590</td>\n",
       "      <td>2012</td>\n",
       "      <td>bmw</td>\n",
       "      <td>1 series 128i coupe 2d</td>\n",
       "      <td>other</td>\n",
       "      <td>80465</td>\n",
       "      <td>...</td>\n",
       "      <td>0.0</td>\n",
       "      <td>1.0</td>\n",
       "      <td>0.0</td>\n",
       "      <td>0.0</td>\n",
       "      <td>0.0</td>\n",
       "      <td>0.0</td>\n",
       "      <td>0.0</td>\n",
       "      <td>1.0</td>\n",
       "      <td>0.0</td>\n",
       "      <td>0.0</td>\n",
       "    </tr>\n",
       "  </tbody>\n",
       "</table>\n",
       "<p>5 rows × 1446 columns</p>\n",
       "</div>"
      ],
      "text/plain": [
       "           id                                                url  \\\n",
       "0  7308295377  https://chattanooga.craigslist.org/ctd/d/chatt...   \n",
       "1  7316380095  https://newjersey.craigslist.org/ctd/d/carlsta...   \n",
       "2  7313733749  https://reno.craigslist.org/ctd/d/atlanta-2017...   \n",
       "3  7308210929  https://fayetteville.craigslist.org/ctd/d/rale...   \n",
       "4  7303797340  https://knoxville.craigslist.org/ctd/d/knoxvil...   \n",
       "\n",
       "         region                           region_url  price  year  \\\n",
       "0   chattanooga   https://chattanooga.craigslist.org  54990  2020   \n",
       "1  north jersey     https://newjersey.craigslist.org  16942  2016   \n",
       "2  reno / tahoe          https://reno.craigslist.org  35590  2017   \n",
       "3  fayetteville  https://fayetteville.craigslist.org  14500  2013   \n",
       "4     knoxville     https://knoxville.craigslist.org  14590  2012   \n",
       "\n",
       "  manufacturer                   model    fuel  odometer  ... x4_wy x5_clean  \\\n",
       "0          ram  2500 crew cab big horn  diesel     27442  ...   0.0      1.0   \n",
       "1         ford    explorer 4wd 4dr xlt   other     60023  ...   0.0      1.0   \n",
       "2   volkswagen        golf r hatchback     gas     14048  ...   0.0      1.0   \n",
       "3       toyota                    rav4     gas    117291  ...   0.0      1.0   \n",
       "4          bmw  1 series 128i coupe 2d   other     80465  ...   0.0      1.0   \n",
       "\n",
       "  x5_lien x5_missing x5_parts only  x5_rebuilt  x5_salvage x6_average x6_new  \\\n",
       "0     0.0        0.0           0.0         0.0         0.0        0.0    1.0   \n",
       "1     0.0        0.0           0.0         0.0         0.0        0.0    1.0   \n",
       "2     0.0        0.0           0.0         0.0         0.0        0.0    1.0   \n",
       "3     0.0        0.0           0.0         0.0         0.0        1.0    0.0   \n",
       "4     0.0        0.0           0.0         0.0         0.0        1.0    0.0   \n",
       "\n",
       "  x6_old  \n",
       "0    0.0  \n",
       "1    0.0  \n",
       "2    0.0  \n",
       "3    0.0  \n",
       "4    0.0  \n",
       "\n",
       "[5 rows x 1446 columns]"
      ]
     },
     "execution_count": 13,
     "metadata": {},
     "output_type": "execute_result"
    }
   ],
   "source": [
    "df[ohe.get_feature_names()] = ohe_categories\n",
    "df.head()"
   ]
  },
  {
   "cell_type": "code",
   "execution_count": 14,
   "id": "1a3f43c0",
   "metadata": {
    "hidden": true
   },
   "outputs": [
    {
     "data": {
      "text/plain": [
       "Index(['id', 'url', 'region', 'region_url', 'price', 'year', 'manufacturer',\n",
       "       'model', 'fuel', 'odometer',\n",
       "       ...\n",
       "       'x4_wy', 'x5_clean', 'x5_lien', 'x5_missing', 'x5_parts only',\n",
       "       'x5_rebuilt', 'x5_salvage', 'x6_average', 'x6_new', 'x6_old'],\n",
       "      dtype='object', length=1446)"
      ]
     },
     "execution_count": 14,
     "metadata": {},
     "output_type": "execute_result"
    }
   ],
   "source": [
    "df.columns"
   ]
  },
  {
   "cell_type": "markdown",
   "id": "e49435ac",
   "metadata": {
    "heading_collapsed": true,
    "id": "29bad2c6"
   },
   "source": [
    "### Стандартизация данных"
   ]
  },
  {
   "cell_type": "markdown",
   "id": "29bad2c6",
   "metadata": {
    "hidden": true,
    "id": "29bad2c6"
   },
   "source": [
    "Создадим переменную под количественные переменные `lat`, `long`, `year`, `odometer/price`, `desc_len`, `model_in_desc`, `model_len`, `model_word_count` и создадим датафрейм `data`, содержащий только выбранные количественные переменные."
   ]
  },
  {
   "cell_type": "code",
   "execution_count": 15,
   "id": "ad704812",
   "metadata": {
    "ExecuteTime": {
     "end_time": "2022-03-15T22:40:45.881773Z",
     "start_time": "2022-03-15T22:40:45.875957Z"
    },
    "hidden": true,
    "id": "ad704812"
   },
   "outputs": [
    {
     "data": {
      "text/html": [
       "<div>\n",
       "<style scoped>\n",
       "    .dataframe tbody tr th:only-of-type {\n",
       "        vertical-align: middle;\n",
       "    }\n",
       "\n",
       "    .dataframe tbody tr th {\n",
       "        vertical-align: top;\n",
       "    }\n",
       "\n",
       "    .dataframe thead th {\n",
       "        text-align: right;\n",
       "    }\n",
       "</style>\n",
       "<table border=\"1\" class=\"dataframe\">\n",
       "  <thead>\n",
       "    <tr style=\"text-align: right;\">\n",
       "      <th></th>\n",
       "      <th>lat</th>\n",
       "      <th>long</th>\n",
       "      <th>year</th>\n",
       "      <th>odometer/price</th>\n",
       "      <th>desc_len</th>\n",
       "      <th>model_in_desc</th>\n",
       "      <th>model_len</th>\n",
       "      <th>model_word_count</th>\n",
       "    </tr>\n",
       "  </thead>\n",
       "  <tbody>\n",
       "    <tr>\n",
       "      <th>0</th>\n",
       "      <td>35.060000</td>\n",
       "      <td>-85.250000</td>\n",
       "      <td>2020</td>\n",
       "      <td>0.499036</td>\n",
       "      <td>4482</td>\n",
       "      <td>0</td>\n",
       "      <td>22</td>\n",
       "      <td>5</td>\n",
       "    </tr>\n",
       "    <tr>\n",
       "      <th>1</th>\n",
       "      <td>40.821805</td>\n",
       "      <td>-74.061962</td>\n",
       "      <td>2016</td>\n",
       "      <td>3.542852</td>\n",
       "      <td>968</td>\n",
       "      <td>0</td>\n",
       "      <td>20</td>\n",
       "      <td>4</td>\n",
       "    </tr>\n",
       "    <tr>\n",
       "      <th>2</th>\n",
       "      <td>33.779214</td>\n",
       "      <td>-84.411811</td>\n",
       "      <td>2017</td>\n",
       "      <td>0.394718</td>\n",
       "      <td>4286</td>\n",
       "      <td>0</td>\n",
       "      <td>16</td>\n",
       "      <td>3</td>\n",
       "    </tr>\n",
       "    <tr>\n",
       "      <th>3</th>\n",
       "      <td>35.715954</td>\n",
       "      <td>-78.655304</td>\n",
       "      <td>2013</td>\n",
       "      <td>8.089034</td>\n",
       "      <td>3241</td>\n",
       "      <td>0</td>\n",
       "      <td>4</td>\n",
       "      <td>1</td>\n",
       "    </tr>\n",
       "    <tr>\n",
       "      <th>4</th>\n",
       "      <td>35.970000</td>\n",
       "      <td>-83.940000</td>\n",
       "      <td>2012</td>\n",
       "      <td>5.515079</td>\n",
       "      <td>4851</td>\n",
       "      <td>0</td>\n",
       "      <td>22</td>\n",
       "      <td>5</td>\n",
       "    </tr>\n",
       "    <tr>\n",
       "      <th>...</th>\n",
       "      <td>...</td>\n",
       "      <td>...</td>\n",
       "      <td>...</td>\n",
       "      <td>...</td>\n",
       "      <td>...</td>\n",
       "      <td>...</td>\n",
       "      <td>...</td>\n",
       "      <td>...</td>\n",
       "    </tr>\n",
       "    <tr>\n",
       "      <th>9614</th>\n",
       "      <td>42.123900</td>\n",
       "      <td>-79.189500</td>\n",
       "      <td>2002</td>\n",
       "      <td>33.370412</td>\n",
       "      <td>1710</td>\n",
       "      <td>0</td>\n",
       "      <td>4</td>\n",
       "      <td>1</td>\n",
       "    </tr>\n",
       "    <tr>\n",
       "      <th>9615</th>\n",
       "      <td>43.216990</td>\n",
       "      <td>-77.755610</td>\n",
       "      <td>2008</td>\n",
       "      <td>7.835323</td>\n",
       "      <td>948</td>\n",
       "      <td>0</td>\n",
       "      <td>8</td>\n",
       "      <td>1</td>\n",
       "    </tr>\n",
       "    <tr>\n",
       "      <th>9616</th>\n",
       "      <td>44.925908</td>\n",
       "      <td>-122.982753</td>\n",
       "      <td>2011</td>\n",
       "      <td>16.696387</td>\n",
       "      <td>909</td>\n",
       "      <td>0</td>\n",
       "      <td>25</td>\n",
       "      <td>5</td>\n",
       "    </tr>\n",
       "    <tr>\n",
       "      <th>9617</th>\n",
       "      <td>43.029559</td>\n",
       "      <td>-89.397796</td>\n",
       "      <td>2015</td>\n",
       "      <td>1.941787</td>\n",
       "      <td>3644</td>\n",
       "      <td>0</td>\n",
       "      <td>7</td>\n",
       "      <td>1</td>\n",
       "    </tr>\n",
       "    <tr>\n",
       "      <th>9618</th>\n",
       "      <td>36.670000</td>\n",
       "      <td>-76.300000</td>\n",
       "      <td>2017</td>\n",
       "      <td>1.122882</td>\n",
       "      <td>4483</td>\n",
       "      <td>0</td>\n",
       "      <td>22</td>\n",
       "      <td>5</td>\n",
       "    </tr>\n",
       "  </tbody>\n",
       "</table>\n",
       "<p>9619 rows × 8 columns</p>\n",
       "</div>"
      ],
      "text/plain": [
       "            lat        long  year  odometer/price  desc_len  model_in_desc  \\\n",
       "0     35.060000  -85.250000  2020        0.499036      4482              0   \n",
       "1     40.821805  -74.061962  2016        3.542852       968              0   \n",
       "2     33.779214  -84.411811  2017        0.394718      4286              0   \n",
       "3     35.715954  -78.655304  2013        8.089034      3241              0   \n",
       "4     35.970000  -83.940000  2012        5.515079      4851              0   \n",
       "...         ...         ...   ...             ...       ...            ...   \n",
       "9614  42.123900  -79.189500  2002       33.370412      1710              0   \n",
       "9615  43.216990  -77.755610  2008        7.835323       948              0   \n",
       "9616  44.925908 -122.982753  2011       16.696387       909              0   \n",
       "9617  43.029559  -89.397796  2015        1.941787      3644              0   \n",
       "9618  36.670000  -76.300000  2017        1.122882      4483              0   \n",
       "\n",
       "      model_len  model_word_count  \n",
       "0            22                 5  \n",
       "1            20                 4  \n",
       "2            16                 3  \n",
       "3             4                 1  \n",
       "4            22                 5  \n",
       "...         ...               ...  \n",
       "9614          4                 1  \n",
       "9615          8                 1  \n",
       "9616         25                 5  \n",
       "9617          7                 1  \n",
       "9618         22                 5  \n",
       "\n",
       "[9619 rows x 8 columns]"
      ]
     },
     "execution_count": 15,
     "metadata": {},
     "output_type": "execute_result"
    }
   ],
   "source": [
    "data = df[['lat', 'long', 'year', 'odometer/price', 'desc_len', 'model_in_desc', 'model_len', 'model_word_count']]\n",
    "data"
   ]
  },
  {
   "cell_type": "markdown",
   "id": "3e3704a7",
   "metadata": {
    "hidden": true,
    "id": "3e3704a7"
   },
   "source": [
    "2. Создайте объект `std_scaler` класса StandardScaler с параметрами по умолчанию, который будет отвечать за стандартизацию."
   ]
  },
  {
   "cell_type": "code",
   "execution_count": 16,
   "id": "7b8ab72c",
   "metadata": {
    "ExecuteTime": {
     "end_time": "2022-03-15T22:40:46.294618Z",
     "start_time": "2022-03-15T22:40:46.288462Z"
    },
    "hidden": true,
    "id": "7b8ab72c",
    "scrolled": true
   },
   "outputs": [],
   "source": [
    "std_scaler = StandardScaler()\n",
    "std_scaler.fit(data)\n",
    "std_scaled = std_scaler.transform(data)"
   ]
  },
  {
   "cell_type": "markdown",
   "id": "490925bb",
   "metadata": {
    "ExecuteTime": {
     "end_time": "2022-03-13T11:13:15.167251Z",
     "start_time": "2022-03-13T11:13:15.161293Z"
    },
    "hidden": true,
    "id": "490925bb"
   },
   "source": [
    "Добавим в исходный датафрейм получившиеся новые признаки"
   ]
  },
  {
   "cell_type": "code",
   "execution_count": 17,
   "id": "6eb7c0dd",
   "metadata": {
    "ExecuteTime": {
     "end_time": "2022-03-15T22:40:46.528674Z",
     "start_time": "2022-03-15T22:40:46.520688Z"
    },
    "hidden": true,
    "id": "6eb7c0dd"
   },
   "outputs": [
    {
     "data": {
      "text/html": [
       "<div>\n",
       "<style scoped>\n",
       "    .dataframe tbody tr th:only-of-type {\n",
       "        vertical-align: middle;\n",
       "    }\n",
       "\n",
       "    .dataframe tbody tr th {\n",
       "        vertical-align: top;\n",
       "    }\n",
       "\n",
       "    .dataframe thead th {\n",
       "        text-align: right;\n",
       "    }\n",
       "</style>\n",
       "<table border=\"1\" class=\"dataframe\">\n",
       "  <thead>\n",
       "    <tr style=\"text-align: right;\">\n",
       "      <th></th>\n",
       "      <th>id</th>\n",
       "      <th>url</th>\n",
       "      <th>region</th>\n",
       "      <th>region_url</th>\n",
       "      <th>price</th>\n",
       "      <th>year</th>\n",
       "      <th>manufacturer</th>\n",
       "      <th>model</th>\n",
       "      <th>fuel</th>\n",
       "      <th>odometer</th>\n",
       "      <th>...</th>\n",
       "      <th>x6_new</th>\n",
       "      <th>x6_old</th>\n",
       "      <th>lat_std</th>\n",
       "      <th>long_std</th>\n",
       "      <th>year_std</th>\n",
       "      <th>odometer/price_std</th>\n",
       "      <th>desc_len_std</th>\n",
       "      <th>model_in_desc_std</th>\n",
       "      <th>model_len_std</th>\n",
       "      <th>model_word_count_std</th>\n",
       "    </tr>\n",
       "  </thead>\n",
       "  <tbody>\n",
       "    <tr>\n",
       "      <th>0</th>\n",
       "      <td>7308295377</td>\n",
       "      <td>https://chattanooga.craigslist.org/ctd/d/chatt...</td>\n",
       "      <td>chattanooga</td>\n",
       "      <td>https://chattanooga.craigslist.org</td>\n",
       "      <td>54990</td>\n",
       "      <td>2020</td>\n",
       "      <td>ram</td>\n",
       "      <td>2500 crew cab big horn</td>\n",
       "      <td>diesel</td>\n",
       "      <td>27442</td>\n",
       "      <td>...</td>\n",
       "      <td>1.0</td>\n",
       "      <td>0.0</td>\n",
       "      <td>-0.619172</td>\n",
       "      <td>0.484245</td>\n",
       "      <td>1.322394</td>\n",
       "      <td>-0.510784</td>\n",
       "      <td>0.632075</td>\n",
       "      <td>-0.155788</td>\n",
       "      <td>1.163032</td>\n",
       "      <td>1.910669</td>\n",
       "    </tr>\n",
       "    <tr>\n",
       "      <th>1</th>\n",
       "      <td>7316380095</td>\n",
       "      <td>https://newjersey.craigslist.org/ctd/d/carlsta...</td>\n",
       "      <td>north jersey</td>\n",
       "      <td>https://newjersey.craigslist.org</td>\n",
       "      <td>16942</td>\n",
       "      <td>2016</td>\n",
       "      <td>ford</td>\n",
       "      <td>explorer 4wd 4dr xlt</td>\n",
       "      <td>other</td>\n",
       "      <td>60023</td>\n",
       "      <td>...</td>\n",
       "      <td>1.0</td>\n",
       "      <td>0.0</td>\n",
       "      <td>0.388014</td>\n",
       "      <td>1.110800</td>\n",
       "      <td>0.695973</td>\n",
       "      <td>-0.402947</td>\n",
       "      <td>-0.646781</td>\n",
       "      <td>-0.155788</td>\n",
       "      <td>0.932087</td>\n",
       "      <td>1.235799</td>\n",
       "    </tr>\n",
       "    <tr>\n",
       "      <th>2</th>\n",
       "      <td>7313733749</td>\n",
       "      <td>https://reno.craigslist.org/ctd/d/atlanta-2017...</td>\n",
       "      <td>reno / tahoe</td>\n",
       "      <td>https://reno.craigslist.org</td>\n",
       "      <td>35590</td>\n",
       "      <td>2017</td>\n",
       "      <td>volkswagen</td>\n",
       "      <td>golf r hatchback</td>\n",
       "      <td>gas</td>\n",
       "      <td>14048</td>\n",
       "      <td>...</td>\n",
       "      <td>1.0</td>\n",
       "      <td>0.0</td>\n",
       "      <td>-0.843059</td>\n",
       "      <td>0.531185</td>\n",
       "      <td>0.852578</td>\n",
       "      <td>-0.514480</td>\n",
       "      <td>0.560744</td>\n",
       "      <td>-0.155788</td>\n",
       "      <td>0.470197</td>\n",
       "      <td>0.560930</td>\n",
       "    </tr>\n",
       "    <tr>\n",
       "      <th>3</th>\n",
       "      <td>7308210929</td>\n",
       "      <td>https://fayetteville.craigslist.org/ctd/d/rale...</td>\n",
       "      <td>fayetteville</td>\n",
       "      <td>https://fayetteville.craigslist.org</td>\n",
       "      <td>14500</td>\n",
       "      <td>2013</td>\n",
       "      <td>toyota</td>\n",
       "      <td>rav4</td>\n",
       "      <td>gas</td>\n",
       "      <td>117291</td>\n",
       "      <td>...</td>\n",
       "      <td>0.0</td>\n",
       "      <td>0.0</td>\n",
       "      <td>-0.504509</td>\n",
       "      <td>0.853562</td>\n",
       "      <td>0.226157</td>\n",
       "      <td>-0.241883</td>\n",
       "      <td>0.180435</td>\n",
       "      <td>-0.155788</td>\n",
       "      <td>-0.915473</td>\n",
       "      <td>-0.788810</td>\n",
       "    </tr>\n",
       "    <tr>\n",
       "      <th>4</th>\n",
       "      <td>7303797340</td>\n",
       "      <td>https://knoxville.craigslist.org/ctd/d/knoxvil...</td>\n",
       "      <td>knoxville</td>\n",
       "      <td>https://knoxville.craigslist.org</td>\n",
       "      <td>14590</td>\n",
       "      <td>2012</td>\n",
       "      <td>bmw</td>\n",
       "      <td>1 series 128i coupe 2d</td>\n",
       "      <td>other</td>\n",
       "      <td>80465</td>\n",
       "      <td>...</td>\n",
       "      <td>0.0</td>\n",
       "      <td>0.0</td>\n",
       "      <td>-0.460101</td>\n",
       "      <td>0.557607</td>\n",
       "      <td>0.069552</td>\n",
       "      <td>-0.333074</td>\n",
       "      <td>0.766366</td>\n",
       "      <td>-0.155788</td>\n",
       "      <td>1.163032</td>\n",
       "      <td>1.910669</td>\n",
       "    </tr>\n",
       "  </tbody>\n",
       "</table>\n",
       "<p>5 rows × 1454 columns</p>\n",
       "</div>"
      ],
      "text/plain": [
       "           id                                                url  \\\n",
       "0  7308295377  https://chattanooga.craigslist.org/ctd/d/chatt...   \n",
       "1  7316380095  https://newjersey.craigslist.org/ctd/d/carlsta...   \n",
       "2  7313733749  https://reno.craigslist.org/ctd/d/atlanta-2017...   \n",
       "3  7308210929  https://fayetteville.craigslist.org/ctd/d/rale...   \n",
       "4  7303797340  https://knoxville.craigslist.org/ctd/d/knoxvil...   \n",
       "\n",
       "         region                           region_url  price  year  \\\n",
       "0   chattanooga   https://chattanooga.craigslist.org  54990  2020   \n",
       "1  north jersey     https://newjersey.craigslist.org  16942  2016   \n",
       "2  reno / tahoe          https://reno.craigslist.org  35590  2017   \n",
       "3  fayetteville  https://fayetteville.craigslist.org  14500  2013   \n",
       "4     knoxville     https://knoxville.craigslist.org  14590  2012   \n",
       "\n",
       "  manufacturer                   model    fuel  odometer  ... x6_new x6_old  \\\n",
       "0          ram  2500 crew cab big horn  diesel     27442  ...    1.0    0.0   \n",
       "1         ford    explorer 4wd 4dr xlt   other     60023  ...    1.0    0.0   \n",
       "2   volkswagen        golf r hatchback     gas     14048  ...    1.0    0.0   \n",
       "3       toyota                    rav4     gas    117291  ...    0.0    0.0   \n",
       "4          bmw  1 series 128i coupe 2d   other     80465  ...    0.0    0.0   \n",
       "\n",
       "    lat_std  long_std  year_std  odometer/price_std  desc_len_std  \\\n",
       "0 -0.619172  0.484245  1.322394           -0.510784      0.632075   \n",
       "1  0.388014  1.110800  0.695973           -0.402947     -0.646781   \n",
       "2 -0.843059  0.531185  0.852578           -0.514480      0.560744   \n",
       "3 -0.504509  0.853562  0.226157           -0.241883      0.180435   \n",
       "4 -0.460101  0.557607  0.069552           -0.333074      0.766366   \n",
       "\n",
       "  model_in_desc_std model_len_std model_word_count_std  \n",
       "0         -0.155788      1.163032             1.910669  \n",
       "1         -0.155788      0.932087             1.235799  \n",
       "2         -0.155788      0.470197             0.560930  \n",
       "3         -0.155788     -0.915473            -0.788810  \n",
       "4         -0.155788      1.163032             1.910669  \n",
       "\n",
       "[5 rows x 1454 columns]"
      ]
     },
     "execution_count": 17,
     "metadata": {},
     "output_type": "execute_result"
    }
   ],
   "source": [
    "df[['lat_std', 'long_std', 'year_std', 'odometer/price_std', 'desc_len_std', 'model_in_desc_std', 'model_len_std', 'model_word_count_std']] = std_scaled\n",
    "df.head()"
   ]
  },
  {
   "cell_type": "code",
   "execution_count": 18,
   "id": "7c6f58d5",
   "metadata": {
    "hidden": true
   },
   "outputs": [
    {
     "data": {
      "text/plain": [
       "Index(['id', 'url', 'region', 'region_url', 'price', 'year', 'manufacturer',\n",
       "       'model', 'fuel', 'odometer',\n",
       "       ...\n",
       "       'x6_new', 'x6_old', 'lat_std', 'long_std', 'year_std',\n",
       "       'odometer/price_std', 'desc_len_std', 'model_in_desc_std',\n",
       "       'model_len_std', 'model_word_count_std'],\n",
       "      dtype='object', length=1454)"
      ]
     },
     "execution_count": 18,
     "metadata": {},
     "output_type": "execute_result"
    }
   ],
   "source": [
    "df.columns"
   ]
  },
  {
   "cell_type": "markdown",
   "id": "f87792e8",
   "metadata": {
    "ExecuteTime": {
     "end_time": "2022-03-13T12:00:09.641795Z",
     "start_time": "2022-03-13T12:00:09.636474Z"
    },
    "heading_collapsed": true,
    "id": "f87792e8"
   },
   "source": [
    "### Признаки на основе дат"
   ]
  },
  {
   "cell_type": "code",
   "execution_count": 19,
   "id": "1cf0cc30",
   "metadata": {
    "ExecuteTime": {
     "end_time": "2022-03-15T22:40:48.879395Z",
     "start_time": "2022-03-15T22:40:48.875098Z"
    },
    "hidden": true,
    "id": "1cf0cc30"
   },
   "outputs": [
    {
     "data": {
      "text/plain": [
       "0       2021-04-17T12:30:50-0400\n",
       "1       2021-05-03T15:40:21-0400\n",
       "2       2021-04-28T03:52:20-0700\n",
       "3       2021-04-17T10:08:57-0400\n",
       "4       2021-04-08T15:10:56-0400\n",
       "                  ...           \n",
       "9614    2021-04-10T16:33:57-0400\n",
       "9615    2021-05-03T09:36:30-0400\n",
       "9616    2021-04-22T12:14:01-0700\n",
       "9617    2021-04-14T09:14:42-0500\n",
       "9618    2021-04-24T13:50:49-0400\n",
       "Name: posting_date, Length: 9619, dtype: object"
      ]
     },
     "execution_count": 19,
     "metadata": {},
     "output_type": "execute_result"
    }
   ],
   "source": [
    "df.posting_date"
   ]
  },
  {
   "cell_type": "code",
   "execution_count": 20,
   "id": "dcffcb0d",
   "metadata": {
    "hidden": true
   },
   "outputs": [
    {
     "data": {
      "text/plain": [
       "0       2021-04-17 16:30:50+00:00\n",
       "1       2021-05-03 19:40:21+00:00\n",
       "2       2021-04-28 10:52:20+00:00\n",
       "3       2021-04-17 14:08:57+00:00\n",
       "4       2021-04-08 19:10:56+00:00\n",
       "                  ...            \n",
       "9614    2021-04-10 20:33:57+00:00\n",
       "9615    2021-05-03 13:36:30+00:00\n",
       "9616    2021-04-22 19:14:01+00:00\n",
       "9617    2021-04-14 14:14:42+00:00\n",
       "9618    2021-04-24 17:50:49+00:00\n",
       "Name: date, Length: 9619, dtype: object"
      ]
     },
     "execution_count": 20,
     "metadata": {},
     "output_type": "execute_result"
    }
   ],
   "source": [
    "df.date"
   ]
  },
  {
   "cell_type": "markdown",
   "id": "a154545f",
   "metadata": {
    "hidden": true,
    "id": "a154545f"
   },
   "source": [
    "Колонка `date` содержит данные в строковом формате, поэтому изменим её тип "
   ]
  },
  {
   "cell_type": "code",
   "execution_count": 21,
   "id": "a196635b",
   "metadata": {
    "ExecuteTime": {
     "end_time": "2022-03-15T22:49:02.356258Z",
     "start_time": "2022-03-15T22:49:02.315893Z"
    },
    "hidden": true
   },
   "outputs": [
    {
     "data": {
      "text/plain": [
       "0      2021-04-17 16:30:50+00:00\n",
       "1      2021-05-03 19:40:21+00:00\n",
       "2      2021-04-28 10:52:20+00:00\n",
       "3      2021-04-17 14:08:57+00:00\n",
       "4      2021-04-08 19:10:56+00:00\n",
       "                  ...           \n",
       "9614   2021-04-10 20:33:57+00:00\n",
       "9615   2021-05-03 13:36:30+00:00\n",
       "9616   2021-04-22 19:14:01+00:00\n",
       "9617   2021-04-14 14:14:42+00:00\n",
       "9618   2021-04-24 17:50:49+00:00\n",
       "Name: date, Length: 9619, dtype: datetime64[ns, UTC]"
      ]
     },
     "execution_count": 21,
     "metadata": {},
     "output_type": "execute_result"
    }
   ],
   "source": [
    "df.date = pd.to_datetime(df.date, utc=True)\n",
    "df.date"
   ]
  },
  {
   "cell_type": "markdown",
   "id": "4c79c093",
   "metadata": {
    "hidden": true,
    "id": "4c79c093"
   },
   "source": [
    "Создадим признак `month`, обозначающий номер месяца размещения объявления о продаже автомобиля"
   ]
  },
  {
   "cell_type": "code",
   "execution_count": 22,
   "id": "a6f217a1",
   "metadata": {
    "ExecuteTime": {
     "end_time": "2022-03-15T22:40:55.808808Z",
     "start_time": "2022-03-15T22:40:55.801804Z"
    },
    "hidden": true,
    "id": "a6f217a1"
   },
   "outputs": [
    {
     "data": {
      "text/html": [
       "<div>\n",
       "<style scoped>\n",
       "    .dataframe tbody tr th:only-of-type {\n",
       "        vertical-align: middle;\n",
       "    }\n",
       "\n",
       "    .dataframe tbody tr th {\n",
       "        vertical-align: top;\n",
       "    }\n",
       "\n",
       "    .dataframe thead th {\n",
       "        text-align: right;\n",
       "    }\n",
       "</style>\n",
       "<table border=\"1\" class=\"dataframe\">\n",
       "  <thead>\n",
       "    <tr style=\"text-align: right;\">\n",
       "      <th></th>\n",
       "      <th>date</th>\n",
       "      <th>month</th>\n",
       "    </tr>\n",
       "  </thead>\n",
       "  <tbody>\n",
       "    <tr>\n",
       "      <th>0</th>\n",
       "      <td>2021-04-17 16:30:50+00:00</td>\n",
       "      <td>4</td>\n",
       "    </tr>\n",
       "    <tr>\n",
       "      <th>1</th>\n",
       "      <td>2021-05-03 19:40:21+00:00</td>\n",
       "      <td>5</td>\n",
       "    </tr>\n",
       "    <tr>\n",
       "      <th>2</th>\n",
       "      <td>2021-04-28 10:52:20+00:00</td>\n",
       "      <td>4</td>\n",
       "    </tr>\n",
       "    <tr>\n",
       "      <th>3</th>\n",
       "      <td>2021-04-17 14:08:57+00:00</td>\n",
       "      <td>4</td>\n",
       "    </tr>\n",
       "    <tr>\n",
       "      <th>4</th>\n",
       "      <td>2021-04-08 19:10:56+00:00</td>\n",
       "      <td>4</td>\n",
       "    </tr>\n",
       "    <tr>\n",
       "      <th>...</th>\n",
       "      <td>...</td>\n",
       "      <td>...</td>\n",
       "    </tr>\n",
       "    <tr>\n",
       "      <th>9614</th>\n",
       "      <td>2021-04-10 20:33:57+00:00</td>\n",
       "      <td>4</td>\n",
       "    </tr>\n",
       "    <tr>\n",
       "      <th>9615</th>\n",
       "      <td>2021-05-03 13:36:30+00:00</td>\n",
       "      <td>5</td>\n",
       "    </tr>\n",
       "    <tr>\n",
       "      <th>9616</th>\n",
       "      <td>2021-04-22 19:14:01+00:00</td>\n",
       "      <td>4</td>\n",
       "    </tr>\n",
       "    <tr>\n",
       "      <th>9617</th>\n",
       "      <td>2021-04-14 14:14:42+00:00</td>\n",
       "      <td>4</td>\n",
       "    </tr>\n",
       "    <tr>\n",
       "      <th>9618</th>\n",
       "      <td>2021-04-24 17:50:49+00:00</td>\n",
       "      <td>4</td>\n",
       "    </tr>\n",
       "  </tbody>\n",
       "</table>\n",
       "<p>9619 rows × 2 columns</p>\n",
       "</div>"
      ],
      "text/plain": [
       "                          date  month\n",
       "0    2021-04-17 16:30:50+00:00      4\n",
       "1    2021-05-03 19:40:21+00:00      5\n",
       "2    2021-04-28 10:52:20+00:00      4\n",
       "3    2021-04-17 14:08:57+00:00      4\n",
       "4    2021-04-08 19:10:56+00:00      4\n",
       "...                        ...    ...\n",
       "9614 2021-04-10 20:33:57+00:00      4\n",
       "9615 2021-05-03 13:36:30+00:00      5\n",
       "9616 2021-04-22 19:14:01+00:00      4\n",
       "9617 2021-04-14 14:14:42+00:00      4\n",
       "9618 2021-04-24 17:50:49+00:00      4\n",
       "\n",
       "[9619 rows x 2 columns]"
      ]
     },
     "execution_count": 22,
     "metadata": {},
     "output_type": "execute_result"
    }
   ],
   "source": [
    "df['month'] = df.date.dt.month\n",
    "df[['date', 'month']]"
   ]
  },
  {
   "cell_type": "markdown",
   "id": "c855e481",
   "metadata": {
    "hidden": true,
    "id": "c855e481"
   },
   "source": [
    "Создадим признак `dayofweek`, обозначающий день недели размещения объявления о продаже автомобиля"
   ]
  },
  {
   "cell_type": "code",
   "execution_count": 23,
   "id": "c8d335f0",
   "metadata": {
    "hidden": true
   },
   "outputs": [
    {
     "data": {
      "text/plain": [
       "0      2021-04-17 16:30:50+00:00\n",
       "1      2021-05-03 19:40:21+00:00\n",
       "2      2021-04-28 10:52:20+00:00\n",
       "3      2021-04-17 14:08:57+00:00\n",
       "4      2021-04-08 19:10:56+00:00\n",
       "                  ...           \n",
       "9614   2021-04-10 20:33:57+00:00\n",
       "9615   2021-05-03 13:36:30+00:00\n",
       "9616   2021-04-22 19:14:01+00:00\n",
       "9617   2021-04-14 14:14:42+00:00\n",
       "9618   2021-04-24 17:50:49+00:00\n",
       "Name: posting_date, Length: 9619, dtype: datetime64[ns, UTC]"
      ]
     },
     "execution_count": 23,
     "metadata": {},
     "output_type": "execute_result"
    }
   ],
   "source": [
    "df.posting_date = pd.to_datetime(df.posting_date, utc=True)\n",
    "df.posting_date"
   ]
  },
  {
   "cell_type": "code",
   "execution_count": 24,
   "id": "ceda59b0",
   "metadata": {
    "ExecuteTime": {
     "end_time": "2022-03-15T22:40:55.838752Z",
     "start_time": "2022-03-15T22:40:55.833582Z"
    },
    "hidden": true,
    "id": "ceda59b0"
   },
   "outputs": [
    {
     "data": {
      "text/html": [
       "<div>\n",
       "<style scoped>\n",
       "    .dataframe tbody tr th:only-of-type {\n",
       "        vertical-align: middle;\n",
       "    }\n",
       "\n",
       "    .dataframe tbody tr th {\n",
       "        vertical-align: top;\n",
       "    }\n",
       "\n",
       "    .dataframe thead th {\n",
       "        text-align: right;\n",
       "    }\n",
       "</style>\n",
       "<table border=\"1\" class=\"dataframe\">\n",
       "  <thead>\n",
       "    <tr style=\"text-align: right;\">\n",
       "      <th></th>\n",
       "      <th>posting_date</th>\n",
       "      <th>dayofweek</th>\n",
       "    </tr>\n",
       "  </thead>\n",
       "  <tbody>\n",
       "    <tr>\n",
       "      <th>0</th>\n",
       "      <td>2021-04-17 16:30:50+00:00</td>\n",
       "      <td>Saturday</td>\n",
       "    </tr>\n",
       "    <tr>\n",
       "      <th>1</th>\n",
       "      <td>2021-05-03 19:40:21+00:00</td>\n",
       "      <td>Monday</td>\n",
       "    </tr>\n",
       "    <tr>\n",
       "      <th>2</th>\n",
       "      <td>2021-04-28 10:52:20+00:00</td>\n",
       "      <td>Wednesday</td>\n",
       "    </tr>\n",
       "    <tr>\n",
       "      <th>3</th>\n",
       "      <td>2021-04-17 14:08:57+00:00</td>\n",
       "      <td>Saturday</td>\n",
       "    </tr>\n",
       "    <tr>\n",
       "      <th>4</th>\n",
       "      <td>2021-04-08 19:10:56+00:00</td>\n",
       "      <td>Thursday</td>\n",
       "    </tr>\n",
       "    <tr>\n",
       "      <th>...</th>\n",
       "      <td>...</td>\n",
       "      <td>...</td>\n",
       "    </tr>\n",
       "    <tr>\n",
       "      <th>9614</th>\n",
       "      <td>2021-04-10 20:33:57+00:00</td>\n",
       "      <td>Saturday</td>\n",
       "    </tr>\n",
       "    <tr>\n",
       "      <th>9615</th>\n",
       "      <td>2021-05-03 13:36:30+00:00</td>\n",
       "      <td>Monday</td>\n",
       "    </tr>\n",
       "    <tr>\n",
       "      <th>9616</th>\n",
       "      <td>2021-04-22 19:14:01+00:00</td>\n",
       "      <td>Thursday</td>\n",
       "    </tr>\n",
       "    <tr>\n",
       "      <th>9617</th>\n",
       "      <td>2021-04-14 14:14:42+00:00</td>\n",
       "      <td>Wednesday</td>\n",
       "    </tr>\n",
       "    <tr>\n",
       "      <th>9618</th>\n",
       "      <td>2021-04-24 17:50:49+00:00</td>\n",
       "      <td>Saturday</td>\n",
       "    </tr>\n",
       "  </tbody>\n",
       "</table>\n",
       "<p>9619 rows × 2 columns</p>\n",
       "</div>"
      ],
      "text/plain": [
       "                  posting_date  dayofweek\n",
       "0    2021-04-17 16:30:50+00:00   Saturday\n",
       "1    2021-05-03 19:40:21+00:00     Monday\n",
       "2    2021-04-28 10:52:20+00:00  Wednesday\n",
       "3    2021-04-17 14:08:57+00:00   Saturday\n",
       "4    2021-04-08 19:10:56+00:00   Thursday\n",
       "...                        ...        ...\n",
       "9614 2021-04-10 20:33:57+00:00   Saturday\n",
       "9615 2021-05-03 13:36:30+00:00     Monday\n",
       "9616 2021-04-22 19:14:01+00:00   Thursday\n",
       "9617 2021-04-14 14:14:42+00:00  Wednesday\n",
       "9618 2021-04-24 17:50:49+00:00   Saturday\n",
       "\n",
       "[9619 rows x 2 columns]"
      ]
     },
     "execution_count": 24,
     "metadata": {},
     "output_type": "execute_result"
    }
   ],
   "source": [
    "df['dayofweek'] = df.posting_date.dt.day_name()\n",
    "df[['posting_date', 'dayofweek']]"
   ]
  },
  {
   "cell_type": "markdown",
   "id": "53253b00",
   "metadata": {
    "hidden": true,
    "id": "53253b00"
   },
   "source": [
    "Создадим признак `diff_years`, обозначающий количество лет между годом производства автомобиля и годом размещения объявления о продаже автомобиля"
   ]
  },
  {
   "cell_type": "code",
   "execution_count": 25,
   "id": "c5b0ec88",
   "metadata": {
    "ExecuteTime": {
     "end_time": "2022-03-15T22:40:56.791095Z",
     "start_time": "2022-03-15T22:40:56.787550Z"
    },
    "hidden": true,
    "id": "c5b0ec88"
   },
   "outputs": [
    {
     "data": {
      "text/html": [
       "<div>\n",
       "<style scoped>\n",
       "    .dataframe tbody tr th:only-of-type {\n",
       "        vertical-align: middle;\n",
       "    }\n",
       "\n",
       "    .dataframe tbody tr th {\n",
       "        vertical-align: top;\n",
       "    }\n",
       "\n",
       "    .dataframe thead th {\n",
       "        text-align: right;\n",
       "    }\n",
       "</style>\n",
       "<table border=\"1\" class=\"dataframe\">\n",
       "  <thead>\n",
       "    <tr style=\"text-align: right;\">\n",
       "      <th></th>\n",
       "      <th>year</th>\n",
       "      <th>posting_date</th>\n",
       "      <th>diff_years</th>\n",
       "    </tr>\n",
       "  </thead>\n",
       "  <tbody>\n",
       "    <tr>\n",
       "      <th>0</th>\n",
       "      <td>2020</td>\n",
       "      <td>2021-04-17 16:30:50+00:00</td>\n",
       "      <td>1</td>\n",
       "    </tr>\n",
       "    <tr>\n",
       "      <th>1</th>\n",
       "      <td>2016</td>\n",
       "      <td>2021-05-03 19:40:21+00:00</td>\n",
       "      <td>5</td>\n",
       "    </tr>\n",
       "    <tr>\n",
       "      <th>2</th>\n",
       "      <td>2017</td>\n",
       "      <td>2021-04-28 10:52:20+00:00</td>\n",
       "      <td>4</td>\n",
       "    </tr>\n",
       "    <tr>\n",
       "      <th>3</th>\n",
       "      <td>2013</td>\n",
       "      <td>2021-04-17 14:08:57+00:00</td>\n",
       "      <td>8</td>\n",
       "    </tr>\n",
       "    <tr>\n",
       "      <th>4</th>\n",
       "      <td>2012</td>\n",
       "      <td>2021-04-08 19:10:56+00:00</td>\n",
       "      <td>9</td>\n",
       "    </tr>\n",
       "    <tr>\n",
       "      <th>...</th>\n",
       "      <td>...</td>\n",
       "      <td>...</td>\n",
       "      <td>...</td>\n",
       "    </tr>\n",
       "    <tr>\n",
       "      <th>9614</th>\n",
       "      <td>2002</td>\n",
       "      <td>2021-04-10 20:33:57+00:00</td>\n",
       "      <td>19</td>\n",
       "    </tr>\n",
       "    <tr>\n",
       "      <th>9615</th>\n",
       "      <td>2008</td>\n",
       "      <td>2021-05-03 13:36:30+00:00</td>\n",
       "      <td>13</td>\n",
       "    </tr>\n",
       "    <tr>\n",
       "      <th>9616</th>\n",
       "      <td>2011</td>\n",
       "      <td>2021-04-22 19:14:01+00:00</td>\n",
       "      <td>10</td>\n",
       "    </tr>\n",
       "    <tr>\n",
       "      <th>9617</th>\n",
       "      <td>2015</td>\n",
       "      <td>2021-04-14 14:14:42+00:00</td>\n",
       "      <td>6</td>\n",
       "    </tr>\n",
       "    <tr>\n",
       "      <th>9618</th>\n",
       "      <td>2017</td>\n",
       "      <td>2021-04-24 17:50:49+00:00</td>\n",
       "      <td>4</td>\n",
       "    </tr>\n",
       "  </tbody>\n",
       "</table>\n",
       "<p>9619 rows × 3 columns</p>\n",
       "</div>"
      ],
      "text/plain": [
       "      year              posting_date  diff_years\n",
       "0     2020 2021-04-17 16:30:50+00:00           1\n",
       "1     2016 2021-05-03 19:40:21+00:00           5\n",
       "2     2017 2021-04-28 10:52:20+00:00           4\n",
       "3     2013 2021-04-17 14:08:57+00:00           8\n",
       "4     2012 2021-04-08 19:10:56+00:00           9\n",
       "...    ...                       ...         ...\n",
       "9614  2002 2021-04-10 20:33:57+00:00          19\n",
       "9615  2008 2021-05-03 13:36:30+00:00          13\n",
       "9616  2011 2021-04-22 19:14:01+00:00          10\n",
       "9617  2015 2021-04-14 14:14:42+00:00           6\n",
       "9618  2017 2021-04-24 17:50:49+00:00           4\n",
       "\n",
       "[9619 rows x 3 columns]"
      ]
     },
     "execution_count": 25,
     "metadata": {},
     "output_type": "execute_result"
    }
   ],
   "source": [
    "df['diff_years'] = df.apply(lambda x: x.posting_date.year - x.year, axis=1)\n",
    "df[['year', 'posting_date', 'diff_years']]"
   ]
  },
  {
   "cell_type": "markdown",
   "id": "d3a54316",
   "metadata": {
    "hidden": true,
    "id": "d3a54316"
   },
   "source": [
    "Применим стандартизацию к новым признаками и сохраним результат в новые признаки"
   ]
  },
  {
   "cell_type": "code",
   "execution_count": 26,
   "id": "8b2c2e19",
   "metadata": {
    "ExecuteTime": {
     "end_time": "2022-03-15T22:40:57.928930Z",
     "start_time": "2022-03-15T22:40:57.925925Z"
    },
    "hidden": true,
    "id": "8b2c2e19"
   },
   "outputs": [],
   "source": [
    "std_scaler.fit(df[['month', 'diff_years']])\n",
    "std_scaled = std_scaler.transform(df[['month', 'diff_years']])\n",
    "df[['month_std', 'diff_years_std']] = std_scaled"
   ]
  },
  {
   "cell_type": "code",
   "execution_count": 27,
   "id": "d1e18b45",
   "metadata": {
    "hidden": true
   },
   "outputs": [],
   "source": [
    "ohe.fit(df[['dayofweek']])\n",
    "ohe_dayofweek = ohe.transform(df[['dayofweek']])\n",
    "df[ohe.get_feature_names()] = ohe_dayofweek"
   ]
  },
  {
   "cell_type": "markdown",
   "id": "6905d58c",
   "metadata": {
    "ExecuteTime": {
     "end_time": "2022-03-13T12:36:22.108423Z",
     "start_time": "2022-03-13T12:36:22.103687Z"
    },
    "id": "aba80393"
   },
   "source": [
    "### Сохранение датафрейма для этапа моделирования"
   ]
  },
  {
   "cell_type": "markdown",
   "id": "aba80393",
   "metadata": {
    "ExecuteTime": {
     "end_time": "2022-03-13T12:36:22.108423Z",
     "start_time": "2022-03-13T12:36:22.103687Z"
    },
    "id": "aba80393"
   },
   "source": [
    "Удалим колонки, которые были исходными для формирования признаков. Сохраним новый датафрейм в переменную `df_prepared`."
   ]
  },
  {
   "cell_type": "code",
   "execution_count": 28,
   "id": "58ab4836",
   "metadata": {
    "ExecuteTime": {
     "end_time": "2022-03-15T22:41:00.072365Z",
     "start_time": "2022-03-15T22:41:00.064841Z"
    },
    "id": "58ab4836"
   },
   "outputs": [],
   "source": [
    "columns_for_drop = ['year', 'url', 'region', 'region_url', 'manufacturer',\n",
    "                    'model', 'fuel', 'odometer', 'title_status', 'transmission',\n",
    "                    'image_url', 'description', 'state', 'lat', 'long', 'posting_date',\n",
    "                    'odometer_km', 'odometer/price', 'region_new', 'region_corrected', 'manufacturer_model',\n",
    "                    'desc_len', 'model_in_desc', 'price_k$', 'age_category', 'model_len', 'model_word_count',\n",
    "                    'short_model', 'date', 'std_scaled_price',\n",
    "                    'month', 'dayofweek', 'diff_years',\n",
    "                    'odometer/price_std']\n",
    "df_prepared = df.drop(columns_for_drop, axis=1)"
   ]
  },
  {
   "cell_type": "markdown",
   "id": "f120eaaa",
   "metadata": {
    "id": "f120eaaa"
   },
   "source": [
    "Оставшийся список колонок и размерность финального датафрейма."
   ]
  },
  {
   "cell_type": "code",
   "execution_count": 29,
   "id": "13fb36c3",
   "metadata": {
    "ExecuteTime": {
     "end_time": "2022-03-15T22:41:03.176389Z",
     "start_time": "2022-03-15T22:41:03.172474Z"
    },
    "id": "13fb36c3"
   },
   "outputs": [
    {
     "data": {
      "text/plain": [
       "Index(['id', 'price', 'price_category', 'is_audi', 'is_ford', 'is_chevrolet',\n",
       "       'is_toyota', 'is_jeep', 'is_honda', 'is_nissan',\n",
       "       ...\n",
       "       'model_word_count_std', 'month_std', 'diff_years_std', 'x0_Friday',\n",
       "       'x0_Monday', 'x0_Saturday', 'x0_Sunday', 'x0_Thursday', 'x0_Tuesday',\n",
       "       'x0_Wednesday'],\n",
       "      dtype='object', length=1432)"
      ]
     },
     "execution_count": 29,
     "metadata": {},
     "output_type": "execute_result"
    }
   ],
   "source": [
    "df_prepared.columns"
   ]
  },
  {
   "cell_type": "code",
   "execution_count": 30,
   "id": "c74f9df1",
   "metadata": {},
   "outputs": [
    {
     "data": {
      "text/plain": [
       "(9619, 1432)"
      ]
     },
     "execution_count": 30,
     "metadata": {},
     "output_type": "execute_result"
    }
   ],
   "source": [
    "df_prepared.shape"
   ]
  },
  {
   "cell_type": "markdown",
   "id": "d368ab31",
   "metadata": {
    "id": "6e4960b4"
   },
   "source": [
    "### Описание преобразованного датасета:"
   ]
  },
  {
   "cell_type": "markdown",
   "id": "6e4960b4",
   "metadata": {
    "id": "6e4960b4"
   },
   "source": [
    "- `id`: идентификатор записи;\n",
    "- `is_manufacturer_name`: признак производителя автомобиля;\n",
    "- `region_*`: регион;\n",
    "- `x0_*`: тип топлива;\n",
    "- `manufacturer_*`: производитель;\n",
    "- `short_model_*`: сокращённая модель автомобиля;\n",
    "- `title_status_*`: статус;\n",
    "- `transmission_*`: коробка передач;\n",
    "- `state_*`: штат;\n",
    "- `age_category_*`: возрастная категория автомобиля;\n",
    "- `std_scaled_odometer`: количество пройденных миль (после стандартизации);\n",
    "- `year_std`: год выпуска (после стандартизации);\n",
    "- `lat_std`: широта (после стандартизации);\n",
    "- `long_std`: долгота (после стандартизации);\n",
    "- `odometer/price_std`: отношение стоимости к пробегу автомобиля (после стандартизации);\n",
    "- `desc_len_std`: количество символов в тексте объявления о продаже (после стандартизации);\n",
    "- `model_in_desc_std`: количество наименований модели автомобиля в тексте объявления о продаже (после стандартизации);\n",
    "- `model_len_std`: длина наименования автомобиля (после стандартизации);\n",
    "- `model_word_count_std`: количество слов в наименовании автомобиля (после стандартизации);\n",
    "- `month_std`: номер месяца размещения объявления о продаже автомобиля (после стандартизации);\n",
    "- `dayofweek_std`: день недели размещения объявления о продаже автомобиля (после стандартизации);\n",
    "- `diff_years_std`: количество лет между годом производства автомобиля и годом размещения объявления о продаже автомобиля (после стандартизации);\n",
    "- `price`: стоимость;\n",
    "- `price_category`: категория цены."
   ]
  }
 ],
 "metadata": {
  "colab": {
   "collapsed_sections": [],
   "name": "20.5_Практическая работа_СКРИПТ.ipynb",
   "provenance": []
  },
  "kernelspec": {
   "display_name": "Python 3 (ipykernel)",
   "language": "python",
   "name": "python3"
  },
  "language_info": {
   "codemirror_mode": {
    "name": "ipython",
    "version": 3
   },
   "file_extension": ".py",
   "mimetype": "text/x-python",
   "name": "python",
   "nbconvert_exporter": "python",
   "pygments_lexer": "ipython3",
   "version": "3.9.7"
  },
  "latex_envs": {
   "LaTeX_envs_menu_present": true,
   "autoclose": false,
   "autocomplete": true,
   "bibliofile": "biblio.bib",
   "cite_by": "apalike",
   "current_citInitial": 1,
   "eqLabelWithNumbers": true,
   "eqNumInitial": 1,
   "hotkeys": {
    "equation": "Ctrl-E",
    "itemize": "Ctrl-I"
   },
   "labels_anchors": false,
   "latex_user_defs": false,
   "report_style_numbering": false,
   "user_envs_cfg": false
  },
  "toc": {
   "base_numbering": 1,
   "nav_menu": {},
   "number_sections": true,
   "sideBar": true,
   "skip_h1_title": false,
   "title_cell": "Table of Contents",
   "title_sidebar": "Contents",
   "toc_cell": false,
   "toc_position": {},
   "toc_section_display": true,
   "toc_window_display": false
  }
 },
 "nbformat": 4,
 "nbformat_minor": 5
}
